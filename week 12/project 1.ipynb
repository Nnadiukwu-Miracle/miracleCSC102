{
 "cells": [
  {
   "cell_type": "code",
   "execution_count": 7,
   "metadata": {},
   "outputs": [
    {
     "name": "stdout",
     "output_type": "stream",
     "text": [
      "Enter your club name: madiba fc\n",
      "Welcome to Madiba FC\n"
     ]
    }
   ],
   "source": [
    "from abc import ABC, abstractmethod\n",
    "\n",
    "class coup_de_escriva(ABC):\n",
    "    @abstractmethod\n",
    "    def Fan_Page(self):\n",
    "        pass\n",
    "    \n",
    "class FC_Cirok(coup_de_escriva):\n",
    "    def Fan_Page(self):\n",
    "        print(\"Welcome to FC Cirok\")\n",
    "\n",
    "class Madiba_FC(coup_de_escriva):\n",
    "    def Fan_Page(self):\n",
    "        print(\"Welcome to Madiba FC\")\n",
    "\n",
    "class Blue_Jay_FC(coup_de_escriva):\n",
    "    def Fan_Page(self):\n",
    "        print(\"Welcome to Blue Jay FC\")\n",
    "\n",
    "class TSG_Walker(coup_de_escriva):\n",
    "    def Fan_Page(self):\n",
    "        print(\"Welcome to TSG Walker\")\n",
    "        \n",
    "clubs = { \"fccirok\": FC_Cirok(), \"madibafc\":Madiba_FC(), \"bluejayfc\":Blue_Jay_FC(), \"tsgwalker\": TSG_Walker()}\n",
    "club = (str(input(\"Enter your club name: \"))).replace(\" \", \"\").lower()\n",
    "l = clubs[club]\n",
    "l.Fan_Page()"
   ]
  },
  {
   "cell_type": "code",
   "execution_count": null,
   "metadata": {},
   "outputs": [],
   "source": []
  }
 ],
 "metadata": {
  "kernelspec": {
   "display_name": "Python 3",
   "language": "python",
   "name": "python3"
  },
  "language_info": {
   "codemirror_mode": {
    "name": "ipython",
    "version": 3
   },
   "file_extension": ".py",
   "mimetype": "text/x-python",
   "name": "python",
   "nbconvert_exporter": "python",
   "pygments_lexer": "ipython3",
   "version": "3.8.3"
  }
 },
 "nbformat": 4,
 "nbformat_minor": 4
}
