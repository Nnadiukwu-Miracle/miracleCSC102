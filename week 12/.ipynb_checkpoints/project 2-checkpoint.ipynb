{
 "cells": [
  {
   "cell_type": "code",
   "execution_count": 5,
   "metadata": {},
   "outputs": [
    {
     "name": "stdout",
     "output_type": "stream",
     "text": [
      "Good day, which cafeteria would you like go to today? \n",
      "cooperative cafeteria\n",
      "faith hostel cafeteria\n",
      "student center cafeteria\n",
      "Enter choice cooperative cafeteria\n"
     ]
    },
    {
     "data": {
      "text/html": [
       "<div>\n",
       "<style scoped>\n",
       "    .dataframe tbody tr th:only-of-type {\n",
       "        vertical-align: middle;\n",
       "    }\n",
       "\n",
       "    .dataframe tbody tr th {\n",
       "        vertical-align: top;\n",
       "    }\n",
       "\n",
       "    .dataframe thead th {\n",
       "        text-align: right;\n",
       "    }\n",
       "</style>\n",
       "<table border=\"1\" class=\"dataframe\">\n",
       "  <thead>\n",
       "    <tr style=\"text-align: right;\">\n",
       "      <th></th>\n",
       "      <th>Main meal</th>\n",
       "      <th>Price</th>\n",
       "    </tr>\n",
       "  </thead>\n",
       "  <tbody>\n",
       "    <tr>\n",
       "      <th>0</th>\n",
       "      <td>Jollof Rice and Stew</td>\n",
       "      <td>200</td>\n",
       "    </tr>\n",
       "    <tr>\n",
       "      <th>1</th>\n",
       "      <td>White Rice and Stew</td>\n",
       "      <td>200</td>\n",
       "    </tr>\n",
       "    <tr>\n",
       "      <th>2</th>\n",
       "      <td>Fried Rice</td>\n",
       "      <td>200</td>\n",
       "    </tr>\n",
       "    <tr>\n",
       "      <th>3</th>\n",
       "      <td>Salad</td>\n",
       "      <td>100</td>\n",
       "    </tr>\n",
       "    <tr>\n",
       "      <th>4</th>\n",
       "      <td>Platain</td>\n",
       "      <td>100</td>\n",
       "    </tr>\n",
       "  </tbody>\n",
       "</table>\n",
       "</div>"
      ],
      "text/plain": [
       "              Main meal  Price\n",
       "0  Jollof Rice and Stew    200\n",
       "1   White Rice and Stew    200\n",
       "2            Fried Rice    200\n",
       "3                 Salad    100\n",
       "4               Platain    100"
      ]
     },
     "execution_count": 5,
     "metadata": {},
     "output_type": "execute_result"
    }
   ],
   "source": [
    "from abc import ABC, abstractmethod\n",
    "import pandas as pd\n",
    "\n",
    "class External_Vendors(ABC):\n",
    "    def __init__(self):\n",
    "        self.data = pd.DataFrame(self.li)\n",
    "    @abstractmethod\n",
    "    def menu(self):\n",
    "        pass\n",
    "    \n",
    "class co_op(External_Vendors):\n",
    "    li = {'Main meal':['Jollof Rice and Stew', 'White Rice and Stew', 'Fried Rice', 'Salad', 'Platain'],\n",
    "        'Price':[200, 200, 200, 100, 100]}\n",
    "    def menu(self):\n",
    "         return self.data \n",
    "\n",
    "class faith(External_Vendors):\n",
    "    li = {'Main meal':['Fried Rice', 'White Rice', 'Jollof Rice', 'Beans', 'Chciken'],\n",
    "        'Price':[400, 400, 400, 200, 1000]}\n",
    "    def menu(self):\n",
    "        return self.data\n",
    "\n",
    "class student(External_Vendors):\n",
    "    li = {'Main meal':['Chicken Fried Rice', 'Pomo sauce', 'Spaghetti Jollof', 'Amala/Ewedu', 'Semo with Eforiro Soup'],\n",
    "        'Price':[800, 300, 500, 500, 500]}\n",
    "    def menu(self):\n",
    "        return self.data\n",
    "    \n",
    "cafe = { \"cooperative cafeteria\":co_op(), \"faith hostel cafeteria\":faith(), \"student center cafeteria\":student()}\n",
    "print(\"Good day, which cafeteria would you like go to today? \")\n",
    "for i in cafe:\n",
    "    print(i)\n",
    "choice = (str(input(\"Enter choice \"))).lower()\n",
    "l = cafe[choice]\n",
    "l.menu()"
   ]
  },
  {
   "cell_type": "code",
   "execution_count": null,
   "metadata": {},
   "outputs": [],
   "source": []
  },
  {
   "cell_type": "code",
   "execution_count": null,
   "metadata": {},
   "outputs": [],
   "source": []
  }
 ],
 "metadata": {
  "kernelspec": {
   "display_name": "Python 3",
   "language": "python",
   "name": "python3"
  },
  "language_info": {
   "codemirror_mode": {
    "name": "ipython",
    "version": 3
   },
   "file_extension": ".py",
   "mimetype": "text/x-python",
   "name": "python",
   "nbconvert_exporter": "python",
   "pygments_lexer": "ipython3",
   "version": "3.8.3"
  }
 },
 "nbformat": 4,
 "nbformat_minor": 4
}
