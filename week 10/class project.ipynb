{
 "cells": [
  {
   "cell_type": "code",
   "execution_count": 8,
   "metadata": {},
   "outputs": [
    {
     "name": "stdout",
     "output_type": "stream",
     "text": [
      "Please enter your name: jane\n",
      "Please enter your division: retail banking\n",
      "Welcome, Jane\n",
      "In retail banking we offer:\n",
      "Lines of credit\n",
      "Investment management and accounts\n",
      "Insurance\n",
      "Retirement and education accounts\n",
      "loans and mortgages\n",
      "Checking and saving\n"
     ]
    }
   ],
   "source": [
    "class zenith():\n",
    "    common = [\"Lines of credit\",\"Investment management and accounts\",\"Insurance\"]\n",
    "    def __init__(self):\n",
    "        self.services = (self.common + self.unique)\n",
    "    def render(self):\n",
    "        print(\"Welcome,\", self.name.capitalize())\n",
    "        print(\"In\", self.division,\"we offer:\") \n",
    "        for i in self.services:\n",
    "            print(i)\n",
    "        \n",
    "class retail_banking(zenith):\n",
    "    def __init__(self, name, division):\n",
    "        self.name = name\n",
    "        self.division = division\n",
    "        zenith.__init__(self)\n",
    "    unique = [\"Retirement and education accounts\",\"loans and mortgages\",\"Checking and saving\"]\n",
    "        \n",
    "class global_banking(zenith):\n",
    "    def __init__(self, name, division):\n",
    "        self.name = name\n",
    "        self.division = division\n",
    "        zenith.__init__(self)\n",
    "    common = []\n",
    "    unique = [\"Multi-currency management services and products\",\"Foreign currency accounts\",\"Foreign currency credit cards\",\"Transborder advisory services\",\"Liquidity management\"]\n",
    "        \n",
    "class commercial_banking(zenith):\n",
    "    def __init__(self, name, division):\n",
    "        self.name = name\n",
    "        self.division = division\n",
    "        zenith.__init__(self)\n",
    "    unique = [\"Advisory services\"]\n",
    "        \n",
    "        \n",
    "name = str(input(\"Please enter your name: \")).lower()\n",
    "division = str(input(\"Please enter your division: \")).lower()\n",
    "if division == \"retail banking\":\n",
    "    name = retail_banking(name, division)\n",
    "    name.render()\n",
    "elif division == \"global banking\":\n",
    "    name = global_banking(name, division)\n",
    "    name.render()\n",
    "elif division == \"commercial banking\":\n",
    "    name = commercial_banking(name, division)\n",
    "    name.render()\n",
    "else:\n",
    "    print(\"Such division does not exist\\nPlease check the spelling correctly.\\nThank you\")\n",
    "\n",
    "        "
   ]
  },
  {
   "cell_type": "code",
   "execution_count": null,
   "metadata": {},
   "outputs": [],
   "source": []
  }
 ],
 "metadata": {
  "kernelspec": {
   "display_name": "Python 3",
   "language": "python",
   "name": "python3"
  },
  "language_info": {
   "codemirror_mode": {
    "name": "ipython",
    "version": 3
   },
   "file_extension": ".py",
   "mimetype": "text/x-python",
   "name": "python",
   "nbconvert_exporter": "python",
   "pygments_lexer": "ipython3",
   "version": "3.8.3"
  }
 },
 "nbformat": 4,
 "nbformat_minor": 4
}
