{
 "cells": [
  {
   "cell_type": "code",
   "execution_count": 34,
   "metadata": {},
   "outputs": [
    {
     "data": {
      "text/plain": [
       "array({'International': ['cocoa butter', 'liquor', 'cake', ''], 'Locally': ['cocoa powder', '', '', '']},\n",
       "      dtype=object)"
      ]
     },
     "execution_count": 34,
     "metadata": {},
     "output_type": "execute_result"
    }
   ],
   "source": [
    "import pandas as pd\n",
    "import numpy as np\n",
    "export = np.array({'International':['cocoa butter', 'liquor', 'cake', ''],\n",
    "                         'Locally':['cocoa powder', '', '', '']\n",
    "                    })\n",
    "segments = np.array({'Refreshment Beverages':['Bournvita','Hot Chocolate', '', ''],\n",
    "                    \"Confectionery\":['Tom Tom', 'Buttermint', '', ''],\n",
    "                    'Intermadiate Cocoa Products':['cocoa powder','cocoa butter', 'cocoa liquor', 'cocoa cake']\n",
    "                    })\n",
    "brands = np.array({'Refreshment Beverages':['Cadbury Bournvita','Cadbury 3-in-1 Hot Chocolate', '', ''],\n",
    "                     \"Confectionery\":['Tom Tom Classic', 'Tom Tom Buttermint', 'Tom Tom Strawberry', ''],\n",
    "                    'Intermadiate Cocoa Products':['cocoa powder','cocoa butter', '', '']\n",
    "                   })\n",
    "brands\n",
    "\n",
    "#segments\n",
    "#brands"
   ]
  },
  {
   "cell_type": "code",
   "execution_count": null,
   "metadata": {},
   "outputs": [],
   "source": []
  },
  {
   "cell_type": "code",
   "execution_count": null,
   "metadata": {},
   "outputs": [],
   "source": []
  },
  {
   "cell_type": "code",
   "execution_count": null,
   "metadata": {},
   "outputs": [],
   "source": []
  },
  {
   "cell_type": "code",
   "execution_count": null,
   "metadata": {},
   "outputs": [],
   "source": []
  }
 ],
 "metadata": {
  "kernelspec": {
   "display_name": "Python 3",
   "language": "python",
   "name": "python3"
  },
  "language_info": {
   "codemirror_mode": {
    "name": "ipython",
    "version": 3
   },
   "file_extension": ".py",
   "mimetype": "text/x-python",
   "name": "python",
   "nbconvert_exporter": "python",
   "pygments_lexer": "ipython3",
   "version": "3.8.3"
  }
 },
 "nbformat": 4,
 "nbformat_minor": 4
}
