{
 "cells": [
  {
   "cell_type": "code",
   "execution_count": 5,
   "metadata": {},
   "outputs": [
    {
     "name": "stdout",
     "output_type": "stream",
     "text": [
      "Enter distance in miles 700\n",
      "Enter time in hours 0.2\n",
      "It is as fast as a falcon\n",
      "That is extremely fast !!!\n"
     ]
    }
   ],
   "source": [
    "import math\n",
    "distance = int(input(\"Enter distance in miles \"))\n",
    "time = float(input(\"Enter time in hours \"))\n",
    "speed = distance/time\n",
    "if 0 < speed <= 0.1:\n",
    "    print(\"It is as slow as a snail\")\n",
    "elif 0.2 <= speed <= 10:\n",
    "    print(\"It is as fast as a chicken\")\n",
    "elif 11 <= speed <= 35:\n",
    "    print(\"It is as fast as a deer\")\n",
    "elif 36 <= speed <= 50:\n",
    "    print(\"It is as fast as a lion\")\n",
    "elif 37 <= speed <= 70:\n",
    "    print(\"It is as fast as a cheetah\")\n",
    "else:\n",
    "    print(\"It is as fast as a falcon\")\n",
    "    print(\"That is extremely fast !!!\")"
   ]
  },
  {
   "cell_type": "markdown",
   "metadata": {},
   "source": [
    "ENTER distance\n",
    "ENTER time\n",
    "COMPUTE speed = distance / time\n",
    "COMPARE speed to speed of relative things"
   ]
  }
 ],
 "metadata": {
  "kernelspec": {
   "display_name": "Python 3",
   "language": "python",
   "name": "python3"
  },
  "language_info": {
   "codemirror_mode": {
    "name": "ipython",
    "version": 3
   },
   "file_extension": ".py",
   "mimetype": "text/x-python",
   "name": "python",
   "nbconvert_exporter": "python",
   "pygments_lexer": "ipython3",
   "version": "3.8.3"
  }
 },
 "nbformat": 4,
 "nbformat_minor": 4
}
