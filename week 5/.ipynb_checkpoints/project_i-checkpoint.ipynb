{
 "cells": [
  {
   "cell_type": "markdown",
   "metadata": {},
   "source": [
    "## PROJECT I"
   ]
  },
  {
   "cell_type": "code",
   "execution_count": 34,
   "metadata": {},
   "outputs": [
    {
     "name": "stdout",
     "output_type": "stream",
     "text": [
      "Enter the forbidden letters: aeiou\n",
      "Enter a sentence to be checked: pen biro rhythm by\n",
      "2 words do not use forbidden letters\n",
      "['pen', 'biro'] use forbidden letters\n"
     ]
    }
   ],
   "source": [
    "def avoids():\n",
    "    forbidden = list(str(input(\"Enter the forbidden letters: \")))\n",
    "    sentence = str(input(\"Enter a sentence to be checked: \")).split(\" \")\n",
    "    li = []\n",
    "    no = 0\n",
    "    for i in sentence:\n",
    "        boo = True\n",
    "        for j in forbidden:\n",
    "            if j in i:\n",
    "                boo = False\n",
    "        if boo == False:\n",
    "            li.append(i)\n",
    "        else:\n",
    "            no += 1\n",
    "    if len(li) == 0:\n",
    "        print(\"the sentence does not have forbidden words\")\n",
    "    else:\n",
    "        print(no, \"words do not use forbidden letters\")\n",
    "        print(li, \"use forbidden letters\")\n",
    "\n",
    "avoids()"
   ]
  },
  {
   "cell_type": "code",
   "execution_count": null,
   "metadata": {},
   "outputs": [],
   "source": []
  },
  {
   "cell_type": "code",
   "execution_count": null,
   "metadata": {},
   "outputs": [],
   "source": []
  }
 ],
 "metadata": {
  "kernelspec": {
   "display_name": "Python 3",
   "language": "python",
   "name": "python3"
  },
  "language_info": {
   "codemirror_mode": {
    "name": "ipython",
    "version": 3
   },
   "file_extension": ".py",
   "mimetype": "text/x-python",
   "name": "python",
   "nbconvert_exporter": "python",
   "pygments_lexer": "ipython3",
   "version": "3.8.3"
  }
 },
 "nbformat": 4,
 "nbformat_minor": 4
}
