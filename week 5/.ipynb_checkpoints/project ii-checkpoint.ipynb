{
 "cells": [
  {
   "cell_type": "markdown",
   "metadata": {},
   "source": [
    "## Project II"
   ]
  },
  {
   "cell_type": "code",
   "execution_count": 38,
   "metadata": {},
   "outputs": [
    {
     "name": "stdout",
     "output_type": "stream",
     "text": [
      "Enter the required letters well\n",
      "Enter the word will\n",
      "False\n",
      "the required letters ['e']  cannot be found\n"
     ]
    }
   ],
   "source": [
    "def uses_all():\n",
    "    letters = [\"a\", \"e\", \"i\", \"o\", \"u\",]\n",
    "    newReq = list(str(input(\"Enter the required letters \")))\n",
    "    word = str(input(\"Enter the word \"))\n",
    "    li = []\n",
    "    for i in newReq:\n",
    "        if i in word:\n",
    "            continue\n",
    "        else:\n",
    "            li.append(i)\n",
    "    if len(li) > 0:\n",
    "        print(False)\n",
    "        print(\"the required letters\",li,\" cannot be found\")  \n",
    "    else:\n",
    "        print(True)\n",
    "    boo = True\n",
    "    for j in letters:\n",
    "        if j in word:\n",
    "            continue\n",
    "        else:\n",
    "            boo = False\n",
    "    if boo:\n",
    "        print(\"It uses all vowels\")\n",
    "uses_all()"
   ]
  },
  {
   "cell_type": "code",
   "execution_count": null,
   "metadata": {},
   "outputs": [],
   "source": []
  }
 ],
 "metadata": {
  "kernelspec": {
   "display_name": "Python 3",
   "language": "python",
   "name": "python3"
  },
  "language_info": {
   "codemirror_mode": {
    "name": "ipython",
    "version": 3
   },
   "file_extension": ".py",
   "mimetype": "text/x-python",
   "name": "python",
   "nbconvert_exporter": "python",
   "pygments_lexer": "ipython3",
   "version": "3.8.3"
  }
 },
 "nbformat": 4,
 "nbformat_minor": 4
}
