{
 "cells": [
  {
   "cell_type": "markdown",
   "metadata": {},
   "source": [
    "## Project II"
   ]
  },
  {
   "cell_type": "code",
   "execution_count": 2,
   "metadata": {},
   "outputs": [
    {
     "name": "stdout",
     "output_type": "stream",
     "text": [
      "Enter the required letters burn\n",
      "Enter the word benedict\n",
      "False\n",
      "the required letters u,r cannot be found in the word benedict\n"
     ]
    }
   ],
   "source": [
    "def uses_all():\n",
    "    letters = [\"a\", \"e\", \"i\", \"o\", \"u\",]\n",
    "    newReq = list(str(input(\"Enter the required letters \")))\n",
    "    word = str(input(\"Enter the word \"))\n",
    "    li = []\n",
    "    for i in newReq:\n",
    "        if i in word:\n",
    "            continue\n",
    "        else:\n",
    "            li.append(i)\n",
    "    if len(li) > 0:\n",
    "        print(False)\n",
    "        li = \",\".join(li)\n",
    "        print(\"the required letters\",li,\"cannot be found in the word\", word)  \n",
    "    else:\n",
    "        print(True)\n",
    "    boo = True\n",
    "    for j in letters:\n",
    "        if j in word:\n",
    "            continue\n",
    "        else:\n",
    "            boo = False\n",
    "    if boo:\n",
    "        print(\"It uses all vowels\")\n",
    "    else:\n",
    "        print(\"It does not use all vowels\")\n",
    "uses_all()"
   ]
  },
  {
   "cell_type": "markdown",
   "metadata": {},
   "source": [
    "## PSEUDOCODE"
   ]
  },
  {
   "cell_type": "markdown",
   "metadata": {},
   "source": [
    "#### ENTER list of required letters\n",
    "#### ADD required_letters to database\n",
    "#### ADD letters to database\n",
    "#### ENTER the WORD to be tested\n",
    "#### CREATE LIST of used letters\n",
    "#### IF required_letter is in WORD, THEN DO nothing\n",
    "#### ELSE ADD to LIST of used letters\n",
    "#### IF LIST is not empty(i.e some letters were not used), RETURN False\n",
    "#### ELSE RETURN True\n",
    "#### IF letter is in word, THEN DO nothing\n",
    "#### ELSE RETURN false"
   ]
  },
  {
   "cell_type": "markdown",
   "metadata": {},
   "source": [
    "### FLOWCHART\n",
    "![project2](project2.jpg)"
   ]
  },
  {
   "cell_type": "code",
   "execution_count": null,
   "metadata": {},
   "outputs": [],
   "source": []
  }
 ],
 "metadata": {
  "kernelspec": {
   "display_name": "Python 3",
   "language": "python",
   "name": "python3"
  },
  "language_info": {
   "codemirror_mode": {
    "name": "ipython",
    "version": 3
   },
   "file_extension": ".py",
   "mimetype": "text/x-python",
   "name": "python",
   "nbconvert_exporter": "python",
   "pygments_lexer": "ipython3",
   "version": "3.8.3"
  }
 },
 "nbformat": 4,
 "nbformat_minor": 4
}
