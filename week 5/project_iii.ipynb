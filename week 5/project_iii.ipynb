{
 "cells": [
  {
   "cell_type": "markdown",
   "metadata": {},
   "source": [
    "### PROJECT III"
   ]
  },
  {
   "cell_type": "code",
   "execution_count": 19,
   "metadata": {},
   "outputs": [
    {
     "name": "stdout",
     "output_type": "stream",
     "text": [
      "Player 1 enter your guess odds\n",
      "Player 2 enter your guess evens\n",
      "Player 1, what number did you choose 1\n",
      "Player 2, what number did you choose 2\n",
      "Player1 is correct, the answer is odds\n"
     ]
    }
   ],
   "source": [
    "guess1 = str(input(\"Player 1 enter your guess \"))\n",
    "guess2 = str(input(\"Player 2 enter your guess \"))\n",
    "num1 = int(input(\"Player 1, what number did you choose \"))\n",
    "num2 = int(input(\"Player 2, what number did you choose \"))    \n",
    "total = num1 + num2\n",
    "if total % 2 == 0:\n",
    "    nature = \"evens\"\n",
    "else:\n",
    "    nature = \"odds\"\n",
    "if guess1 == nature and guess2 == nature:\n",
    "    print(\"Both of you are correct\")\n",
    "elif guess1 == nature:\n",
    "    print(\"Player1 is correct, the answer is\", guess1)\n",
    "elif guess2 == nature:\n",
    "    print(\"Player2 is correct, the answer is\", guess2)\n",
    "else:\n",
    "    print(\"Both of you are wrong\")"
   ]
  },
  {
   "cell_type": "markdown",
   "metadata": {},
   "source": [
    "### PSEUDOCODE\n",
    "##### ENTER guess1\n",
    "##### ENTER guess2\n",
    "##### ENTER num1\n",
    "##### ENTER num2\n",
    "##### GET total = num1 + num2\n",
    "##### IF total is an even number, THEN nature is positive\n",
    "##### ELSE nature is negative\n",
    "##### IF guess1 and guess2 are the same as nature, THEN RETURN both of you are correct\n",
    "##### ELSE IF only guess1 is same as nature, THEN RETURN player1 is correct\n",
    "##### ELSE IF only guess2 is same as nature, THEN RETURN player2 is correct\n",
    "##### ELSE RETURN both of you are wrong"
   ]
  },
  {
   "cell_type": "markdown",
   "metadata": {},
   "source": [
    "### FLOWCHART\n",
    "![project3](project3.jpg)"
   ]
  },
  {
   "cell_type": "code",
   "execution_count": null,
   "metadata": {},
   "outputs": [],
   "source": []
  }
 ],
 "metadata": {
  "kernelspec": {
   "display_name": "Python 3",
   "language": "python",
   "name": "python3"
  },
  "language_info": {
   "codemirror_mode": {
    "name": "ipython",
    "version": 3
   },
   "file_extension": ".py",
   "mimetype": "text/x-python",
   "name": "python",
   "nbconvert_exporter": "python",
   "pygments_lexer": "ipython3",
   "version": "3.8.3"
  }
 },
 "nbformat": 4,
 "nbformat_minor": 4
}
