{
 "cells": [
  {
   "cell_type": "markdown",
   "metadata": {},
   "source": [
    "## PROJECT I"
   ]
  },
  {
   "cell_type": "code",
   "execution_count": 34,
   "metadata": {},
   "outputs": [
    {
     "name": "stdout",
     "output_type": "stream",
     "text": [
      "Enter the forbidden letters: aeiou\n",
      "Enter a sentence to be checked: pen biro rhythm by\n",
      "2 words do not use forbidden letters\n",
      "['pen', 'biro'] use forbidden letters\n"
     ]
    }
   ],
   "source": []
  },
  {
   "cell_type": "code",
   "execution_count": 27,
   "metadata": {},
   "outputs": [
    {
     "name": "stdout",
     "output_type": "stream",
     "text": [
      "Enter the forbidden letters: eio\n",
      "Enter a sentence to be checked: Baboons are annoying things by the way\n",
      "The word, baboons has the forbidden letter, o,  \n",
      "The word, are has the forbidden letter, e,  \n",
      "The word, annoying has the forbidden letter, i,  \n",
      "The word, annoying has the forbidden letter, o,  \n",
      "The word, things has the forbidden letter, i,  \n",
      "The word, the has the forbidden letter, e,  \n",
      "2 words by, way, do not use forbidden letters\n"
     ]
    }
   ],
   "source": [
    "def avoided():\n",
    "    forbidden = list(str(input(\"Enter the forbidden letters: \")).lower())\n",
    "    sentence = str(input(\"Enter a sentence to be checked: \")).lower().split(\" \")\n",
    "    li = []\n",
    "    no = 0\n",
    "    for i in sentence:\n",
    "        boo = True\n",
    "        for j in forbidden:\n",
    "            if j in i:\n",
    "                boo = False\n",
    "                print(\"The word,\", i, \"has the forbidden letter,\", j, end=\", \")\n",
    "                print(\" \")\n",
    "        if boo:\n",
    "            no += 1\n",
    "            li.append(i)\n",
    "    li = \", \".join(li) + \",\"\n",
    "    if no == len(sentence):\n",
    "        print(\"the sentence does not have forbidden words\")\n",
    "    else:\n",
    "        print(no, \"words\",li,\"do not use forbidden letters\")\n",
    "\n",
    "avoided()"
   ]
  },
  {
   "cell_type": "markdown",
   "metadata": {},
   "source": [
    "ENTER string of forbidden letters\n",
    "CONVERT string to lowercase\n",
    "CONVERT string to list1\n",
    "ENTER sentence to be checked\n",
    "CONVERT sentence to lowercase\n",
    "CONVERT sentence to list2\n",
    "CREATE empty list3\n",
    "FOR every word in list2, IF the word uses a forbidden letter, THEN RETURN, the word uses that forbidden letter\n",
    "ELSE ADD word to  list3 AND INCREMENT no by 1\n",
    "IF list3 is not null, THEN RETURN the sentence does not use forbidden letters\n",
    "ELSE RETURN no AND list3"
   ]
  },
  {
   "cell_type": "markdown",
   "metadata": {},
   "source": [
    "## FLOWCHART\n"
   ]
  },
  {
   "cell_type": "markdown",
   "metadata": {},
   "source": [
    "![project1](project1.jpg)"
   ]
  },
  {
   "cell_type": "code",
   "execution_count": null,
   "metadata": {},
   "outputs": [],
   "source": []
  }
 ],
 "metadata": {
  "kernelspec": {
   "display_name": "Python 3",
   "language": "python",
   "name": "python3"
  },
  "language_info": {
   "codemirror_mode": {
    "name": "ipython",
    "version": 3
   },
   "file_extension": ".py",
   "mimetype": "text/x-python",
   "name": "python",
   "nbconvert_exporter": "python",
   "pygments_lexer": "ipython3",
   "version": "3.8.3"
  }
 },
 "nbformat": 4,
 "nbformat_minor": 4
}
