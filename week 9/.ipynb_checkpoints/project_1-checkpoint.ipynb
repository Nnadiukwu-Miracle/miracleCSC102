{
 "cells": [
  {
   "cell_type": "code",
   "execution_count": 9,
   "metadata": {},
   "outputs": [
    {
     "name": "stdout",
     "output_type": "stream",
     "text": [
      "Enter a name: Eyo Ishan\n",
      "Welcome, Eyo Ishan\n",
      "Eyo Ishan your job is Transporting\n"
     ]
    }
   ],
   "source": [
    "class Employee():\n",
    "    import random\n",
    "    tasks = [ \"Loading\", \"Transporting\", \"Reviewing Orders\", \"Customer Service\", \"Delivering Items\"]\n",
    "    emList = [\"Mary Evans\", \"Eyo Ishan\", \"Durojaiye Dare\", \"Adams Ali\", \"Andrew Ugwu\", \"Stella Mankinde\", \"Jane Akibo\", \"Ago James\", \"Michell Taiwo\", \"Abraham Jones\" , \"Nicole Anide\", \"Kosi Korso\", \"Adele Martins\", \"Emmanuel Ojo\", \"Ajayi Fatima\"]\n",
    "    def __init__(self, name):\n",
    "        self.name = name\n",
    "        \n",
    "    def assign_task(self):\n",
    "        self.task = self.random.choice(self.tasks)\n",
    "        print(self.name, \"your job is\", self.task)\n",
    "        \n",
    "    def take_attendance(self, present):\n",
    "        print(\"Welcome,\", self.name)\n",
    "        self.present = True\n",
    "        return \n",
    "    \n",
    "    def refuse_access(self):\n",
    "        print(\"Please leave,\", self.name)\n",
    "        \n",
    "    def check_employee(self):\n",
    "        if self.name in self.emList:\n",
    "            self.take_attendance(self)\n",
    "            self.assign_task()\n",
    "        else:\n",
    "            self.refuse_access()\n",
    "person = str(input(\"Enter a name: \"))\n",
    "m = Employee(person)\n",
    "m.check_employee()"
   ]
  },
  {
   "cell_type": "code",
   "execution_count": null,
   "metadata": {},
   "outputs": [],
   "source": []
  }
 ],
 "metadata": {
  "kernelspec": {
   "display_name": "Python 3",
   "language": "python",
   "name": "python3"
  },
  "language_info": {
   "codemirror_mode": {
    "name": "ipython",
    "version": 3
   },
   "file_extension": ".py",
   "mimetype": "text/x-python",
   "name": "python",
   "nbconvert_exporter": "python",
   "pygments_lexer": "ipython3",
   "version": "3.8.3"
  }
 },
 "nbformat": 4,
 "nbformat_minor": 4
}
