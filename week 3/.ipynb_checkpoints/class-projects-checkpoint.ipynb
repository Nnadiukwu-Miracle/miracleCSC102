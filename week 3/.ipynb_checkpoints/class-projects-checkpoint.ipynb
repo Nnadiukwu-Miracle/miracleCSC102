{
 "cells": [
  {
   "cell_type": "markdown",
   "metadata": {},
   "source": [
    "## Nnadiukwu Miracle\n",
    "#### MATRIC NO: 21120612475\n",
    "##### miracle.nnadiukwu@pau.edu.ng"
   ]
  },
  {
   "cell_type": "markdown",
   "metadata": {},
   "source": [
    "### PROJECT 1\n",
    "This returns double the absolute difference of a number less or greater than 17"
   ]
  },
  {
   "cell_type": "markdown",
   "metadata": {},
   "source": [
    "#### PSEUDOCODE\n",
    "###### READ number.\n",
    "###### IF number is greater than or equal to 17.\n",
    "######    2 times (number - 17).\n",
    "###### ELSE 2 times absolute value of (number - 17).\n",
    "###### END."
   ]
  },
  {
   "cell_type": "markdown",
   "metadata": {},
   "source": [
    "![project1](../images/project1.jpg)"
   ]
  },
  {
   "cell_type": "code",
   "execution_count": null,
   "metadata": {},
   "outputs": [],
   "source": [
    "number = int(input(\"Enter a number: \"))\n",
    "if number >= 17:\n",
    "    print(2*(number - 17))\n",
    "else:\n",
    "    print(2*(abs(number - 17)))"
   ]
  },
  {
   "cell_type": "markdown",
   "metadata": {},
   "source": [
    "### PROJECT 2\n",
    "This returns the sum of 3 numbers thrice the sum if the same"
   ]
  },
  {
   "cell_type": "markdown",
   "metadata": {},
   "source": [
    "###### READ num1\n",
    "###### READ num2\n",
    "###### READ num3\n",
    "###### IF num1 is the same as num2 AND num2 is the same as num3\n",
    "###### RETURN 3 times sum of num1, num2 and num3\n",
    "###### ELSE RETURN THE sum of num1, num2 and num3\n",
    "###### END"
   ]
  },
  {
   "cell_type": "markdown",
   "metadata": {},
   "source": [
    "![project2](../images/project2.jpg)"
   ]
  },
  {
   "cell_type": "code",
   "execution_count": 3,
   "metadata": {},
   "outputs": [
    {
     "name": "stdout",
     "output_type": "stream",
     "text": [
      "Enter the first number: 4\n",
      "Enter the second number: 4\n",
      "Enter the third number: 4\n",
      "36\n"
     ]
    }
   ],
   "source": [
    "num1 = int(input(\"Enter the first number: \"))\n",
    "num2 = int(input(\"Enter the second number: \"))\n",
    "num3 = int(input(\"Enter the third number: \"))\n",
    "if num1 == num2 & num2 == num3:\n",
    "    print(3*(num1 + num2 + num3))\n",
    "else:\n",
    "    print(num1 + num2 + num3)"
   ]
  },
  {
   "cell_type": "markdown",
   "metadata": {},
   "source": [
    "### PROJECT 3\n",
    "This checks if two numbers are equal or their sum or difference is 5"
   ]
  },
  {
   "cell_type": "markdown",
   "metadata": {},
   "source": [
    "#### PSEUDOCODE\n",
    "###### READ num1\n",
    "###### READ num2\n",
    "###### IF num1 is same as num2 OR num1 + num2 = 5 OR the absolute value of their difference is 5\n",
    "###### RETURN True\n",
    "######  ELSE RETURN False\n",
    "###### END"
   ]
  },
  {
   "cell_type": "markdown",
   "metadata": {},
   "source": [
    "![project3](../images/project3.jpg)"
   ]
  },
  {
   "cell_type": "code",
   "execution_count": 15,
   "metadata": {},
   "outputs": [
    {
     "name": "stdout",
     "output_type": "stream",
     "text": [
      "Enter first number: 6\n",
      "Enter second number: 1\n",
      "True\n"
     ]
    }
   ],
   "source": [
    "num1 = int(input(\"Enter first number: \"))\n",
    "num2 = int(input(\"Enter second number: \"))\n",
    "if num1 == num2 or abs(num1 - num2) == 5 or num1 + num2 == 5:\n",
    "    print(True)\n",
    "else:\n",
    "    print(False)"
   ]
  },
  {
   "cell_type": "markdown",
   "metadata": {},
   "source": [
    "### PROJECT 4\n",
    "This sorts 3 numbers in increasing order"
   ]
  },
  {
   "cell_type": "markdown",
   "metadata": {},
   "source": [
    "#### PSEUDOCODE\n",
    "###### READ num1\n",
    "###### READ num2\n",
    "###### READ num3\n",
    "###### GET maximum of num1, num2, and num3\n",
    "###### GET minimum of num1, num2, and num3\n",
    "###### middle = sum of num1, num2 and num3 - sum of min and max\n",
    "###### RETURN min, middle and max"
   ]
  },
  {
   "cell_type": "markdown",
   "metadata": {},
   "source": [
    "![project4](../images/project4.jpg)"
   ]
  },
  {
   "cell_type": "code",
   "execution_count": 42,
   "metadata": {},
   "outputs": [
    {
     "name": "stdout",
     "output_type": "stream",
     "text": [
      "Enter first number: 6\n",
      "Enter second number: 3\n",
      "Enter third number: 7\n",
      "min is 3 Middle is 6 Max is 7\n"
     ]
    }
   ],
   "source": [
    "\n",
    "num1 = int((input(\"Enter first number: \")))\n",
    "num2 = (int(input(\"Enter second number: \")))\n",
    "num3 = (int(input(\"Enter third number: \")))\n",
    "Max = max(num1, num2, num3)\n",
    "Min = min(num1, num2, num3)\n",
    "Middle = (num1 + num2 + num3) - (Max) - (Min)\n",
    "print(\"min is\", Min, \"Middle is\", Middle, \"Max is\", Max)"
   ]
  },
  {
   "cell_type": "markdown",
   "metadata": {},
   "source": [
    "## "
   ]
  },
  {
   "cell_type": "markdown",
   "metadata": {},
   "source": [
    "### PROJECT 5\n",
    "This returns the sum of the cubes of numbers smaller than the specified one"
   ]
  },
  {
   "cell_type": "markdown",
   "metadata": {},
   "source": [
    "#### PSEUDOCODE\n",
    "###### READ num\n",
    "###### CREATE variable sum = 0\n",
    "###### WHILE num is greater than 1\n",
    "###### ADD the cube of numbers less than num to sum\n",
    "###### REDUCE num by 1\n",
    "###### REPEAT process till num is 1\n",
    "###### RETURN sum\n",
    "###### END"
   ]
  },
  {
   "cell_type": "markdown",
   "metadata": {},
   "source": [
    "![project5](../images/project5.jpg)"
   ]
  },
  {
   "cell_type": "code",
   "execution_count": 3,
   "metadata": {},
   "outputs": [
    {
     "name": "stdout",
     "output_type": "stream",
     "text": [
      "Wall time: 0 ns\n",
      "1000000\n",
      "249999500000250000000000\n"
     ]
    }
   ],
   "source": [
    "num = int(input())\n",
    "sum = 0\n",
    "while num > 1:\n",
    "    sum += (num-1)**3\n",
    "    num -= 1\n",
    "print(sum)\n"
   ]
  },
  {
   "cell_type": "code",
   "execution_count": null,
   "metadata": {},
   "outputs": [],
   "source": []
  }
 ],
 "metadata": {
  "kernelspec": {
   "display_name": "Python 3",
   "language": "python",
   "name": "python3"
  },
  "language_info": {
   "codemirror_mode": {
    "name": "ipython",
    "version": 3
   },
   "file_extension": ".py",
   "mimetype": "text/x-python",
   "name": "python",
   "nbconvert_exporter": "python",
   "pygments_lexer": "ipython3",
   "version": "3.8.3"
  }
 },
 "nbformat": 4,
 "nbformat_minor": 4
}
