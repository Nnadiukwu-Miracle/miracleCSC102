{
 "cells": [
  {
   "cell_type": "code",
   "execution_count": 3,
   "metadata": {},
   "outputs": [
    {
     "data": {
      "text/html": [
       "<div>\n",
       "<style scoped>\n",
       "    .dataframe tbody tr th:only-of-type {\n",
       "        vertical-align: middle;\n",
       "    }\n",
       "\n",
       "    .dataframe tbody tr th {\n",
       "        vertical-align: top;\n",
       "    }\n",
       "\n",
       "    .dataframe thead th {\n",
       "        text-align: right;\n",
       "    }\n",
       "</style>\n",
       "<table border=\"1\" class=\"dataframe\">\n",
       "  <thead>\n",
       "    <tr style=\"text-align: right;\">\n",
       "      <th></th>\n",
       "      <th>MatNo</th>\n",
       "      <th>Name</th>\n",
       "      <th>Age</th>\n",
       "      <th>Grade</th>\n",
       "    </tr>\n",
       "  </thead>\n",
       "  <tbody>\n",
       "    <tr>\n",
       "      <th>0</th>\n",
       "      <td>1811</td>\n",
       "      <td>Sola Egbune</td>\n",
       "      <td>23</td>\n",
       "      <td>55</td>\n",
       "    </tr>\n",
       "    <tr>\n",
       "      <th>1</th>\n",
       "      <td>1813</td>\n",
       "      <td>Martin Alegbe</td>\n",
       "      <td>25</td>\n",
       "      <td>77</td>\n",
       "    </tr>\n",
       "    <tr>\n",
       "      <th>2</th>\n",
       "      <td>1817</td>\n",
       "      <td>Durojaiye Adamu</td>\n",
       "      <td>24</td>\n",
       "      <td>60</td>\n",
       "    </tr>\n",
       "  </tbody>\n",
       "</table>\n",
       "</div>"
      ],
      "text/plain": [
       "   MatNo             Name  Age  Grade\n",
       "0   1811      Sola Egbune   23     55\n",
       "1   1813    Martin Alegbe   25     77\n",
       "2   1817  Durojaiye Adamu   24     60"
      ]
     },
     "execution_count": 3,
     "metadata": {},
     "output_type": "execute_result"
    }
   ],
   "source": [
    "import pandas as pd\n",
    "df = pd.read_csv('sis.csv')\n",
    "class PAU(): \n",
    "    mini, maxi, mat, name, age, grade = 0, 0, [], [], [], []\n",
    "    def __init__(self):\n",
    "        for i in range(len(df.Age)):\n",
    "            if self.mini < df.Age[i] < self.maxi:\n",
    "                self.mat.append(df.MatNo[i])\n",
    "                self.name.append(df.Name[i])\n",
    "                self.age.append(df.Age[i])\n",
    "                self.grade.append(df.Grade[i])\n",
    "        self.stuff = pd.DataFrame({\"MatNo\": self.mat, \"Name\": self.name, \"Age\": self.age, \"Grade\": self.grade})\n",
    "    def show(self):\n",
    "        self.stuff.to_csv(self.nom)\n",
    "        return(self.stuff)\n",
    "        \n",
    "class The_Pirates(PAU):\n",
    "    mini = 14\n",
    "    nom = \"The_Pirates.csv\"\n",
    "    maxi = 18\n",
    "    def __init__(self):\n",
    "        PAU.__init__(self)\n",
    "        \n",
    "class The_Yankees(PAU):\n",
    "    mini = 18\n",
    "    maxi = 22\n",
    "    nom = \"The_Yankees.csv\"\n",
    "    def __init__(self):\n",
    "        PAU.__init__(self)\n",
    "    \n",
    "class The_Bulls(PAU):\n",
    "    mini = 22\n",
    "    maxi = 100000\n",
    "    nom = \"The_Bulls.csv\"\n",
    "    def __init__(self):\n",
    "        PAU.__init__(self)\n"
   ]
  },
  {
   "cell_type": "code",
   "execution_count": null,
   "metadata": {},
   "outputs": [],
   "source": []
  }
 ],
 "metadata": {
  "kernelspec": {
   "display_name": "Python 3",
   "language": "python",
   "name": "python3"
  },
  "language_info": {
   "codemirror_mode": {
    "name": "ipython",
    "version": 3
   },
   "file_extension": ".py",
   "mimetype": "text/x-python",
   "name": "python",
   "nbconvert_exporter": "python",
   "pygments_lexer": "ipython3",
   "version": "3.8.3"
  }
 },
 "nbformat": 4,
 "nbformat_minor": 4
}
