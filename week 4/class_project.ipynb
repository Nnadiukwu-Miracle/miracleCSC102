{
 "cells": [
  {
   "cell_type": "code",
   "execution_count": 10,
   "metadata": {},
   "outputs": [],
   "source": [
    "from openpyxl import Workbook, load_workbook\n",
    "wb = Workbook()\n",
    "ws = wb.active\n",
    "ws.title = \"Data\"\n",
    "li = [\"Name\", \"Age\", \"Height\", \"Scores\"]\n",
    "ann = [\"Ann\", 14, 5.5, 80]\n",
    "jane = [\"Jane\", 16, 6.0, 85]\n",
    "joan = [\"Joan\", 14, 5.4, 70]\n",
    "claire = [\"Claire\", 17, 5.9, 60]\n",
    "elizabeth = [\"Elizabeth\", 16, 5.6, 76]\n",
    "Girls = [ann, jane, joan, claire, elizabeth]\n",
    "\n",
    "charles = [\"Charles\", 15, 5.7, 85]\n",
    "jude = [\"Jude\", 16, 5.9, 74]\n",
    "james = [\"James\", 16, 5.8, 87]\n",
    "kelvin = [\"Kelvin\", 17, 6.1, 75]\n",
    "prosper = [\"Prosper\", 14, 5.9, 68]\n",
    "Boys = [charles, jude, james, kelvin, prosper]\n",
    "ws.append(li)\n",
    "ws.append([\"Table of Girls\"])\n",
    "for i in Girls:\n",
    "    ws.append(i)\n",
    "ws.append([\"Table of Boys\"])\n",
    "for i in Boys:\n",
    "    ws.append(i)\n",
    "    \n",
    "wb.save(\"Excel sheet.xlsx\")"
   ]
  },
  {
   "cell_type": "code",
   "execution_count": null,
   "metadata": {},
   "outputs": [],
   "source": []
  }
 ],
 "metadata": {
  "kernelspec": {
   "display_name": "Python 3",
   "language": "python",
   "name": "python3"
  },
  "language_info": {
   "codemirror_mode": {
    "name": "ipython",
    "version": 3
   },
   "file_extension": ".py",
   "mimetype": "text/x-python",
   "name": "python",
   "nbconvert_exporter": "python",
   "pygments_lexer": "ipython3",
   "version": "3.8.3"
  }
 },
 "nbformat": 4,
 "nbformat_minor": 4
}
