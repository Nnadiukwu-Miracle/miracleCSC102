{
 "cells": [
  {
   "cell_type": "code",
   "execution_count": 14,
   "metadata": {},
   "outputs": [
    {
     "name": "stdout",
     "output_type": "stream",
     "text": [
      "Enter a number to generate its pattern = 5\n",
      "1 \n",
      "1 2 \n",
      "1 2 3 \n",
      "1 2 3 4 \n",
      "1 2 3 4 5 \n"
     ]
    }
   ],
   "source": [
    "num = int(input(\"Enter a number to generate its pattern = \"))\n",
    "for i in range(1, num + 1):\n",
    "    for j in range(1, i + 1):\n",
    "        print(j, end=\" \")\n",
    "    print()"
   ]
  },
  {
   "cell_type": "code",
   "execution_count": 4,
   "metadata": {},
   "outputs": [
    {
     "name": "stdout",
     "output_type": "stream",
     "text": [
      "2 is a prime number\n",
      "3 is a prime number\n",
      "5 is a prime number\n",
      "7 is a prime number\n",
      "11 is a prime number\n",
      "13 is a prime number\n",
      "17 is a prime number\n",
      "19 is a prime number\n",
      "23 is a prime number\n",
      "29 is a prime number\n",
      "31 is a prime number\n",
      "37 is a prime number\n",
      "41 is a prime number\n",
      "43 is a prime number\n",
      "47 is a prime number\n",
      "done\n"
     ]
    }
   ],
   "source": [
    "num = 2\n",
    "for i in range(2, 50):\n",
    "    j = 2\n",
    "    while (j <= (i/2)):\n",
    "        if (i % j == 0):\n",
    "            break\n",
    "        j += 1\n",
    "    if (j > i/j):\n",
    "        print (i, \"is a prime number\")\n",
    "print(\"done\")"
   ]
  },
  {
   "cell_type": "code",
   "execution_count": 8,
   "metadata": {},
   "outputs": [
    {
     "name": "stdout",
     "output_type": "stream",
     "text": [
      "Enter a number: 0\n",
      "The factorial of 0 is 1\n"
     ]
    }
   ],
   "source": [
    "num = int(input(\"Enter a number: \"))\n",
    "fact = 1\n",
    "if num < 0:\n",
    "    print(\"Sorry, the factorial doesn't exist for negative numbers\")\n",
    "elif num == 0:\n",
    "    print(\"The factorial of 0 is 1\")\n",
    "else:\n",
    "    for i in range(1, num + 1):\n",
    "        fact = fact * i\n",
    "    print(\"Factorial of \", num, \" is \", fact)"
   ]
  },
  {
   "cell_type": "code",
   "execution_count": 23,
   "metadata": {},
   "outputs": [
    {
     "name": "stdout",
     "output_type": "stream",
     "text": [
      "Enter a number to be checked: 1\n",
      "Entered number <= 1, execute again\n"
     ]
    }
   ],
   "source": [
    "num = int(input(\"Enter a number to be checked: \"))\n",
    "flag = False\n",
    "if num > 1:\n",
    "    for i in range(2, int(num / 2)):\n",
    "        if(num % i == 0):\n",
    "            flag = True\n",
    "            break\n",
    "    if flag:\n",
    "        print(num, \"is not a prime number\")\n",
    "    else:\n",
    "        print(num, \"is a prime number\")\n",
    "else:\n",
    "    print(\"Entered number <= 1, execute again\")"
   ]
  },
  {
   "cell_type": "markdown",
   "metadata": {},
   "source": []
  },
  {
   "cell_type": "markdown",
   "metadata": {},
   "source": [
    "\n",
    "<body>\n",
    "    <table>\n",
    "        <thead>\n",
    "            <tr>\n",
    "                <th colspan=\"4\">GIRLS</th>\n",
    "                <th colspan=\"4\">BOYS</th>\n",
    "            </tr>\n",
    "            <tr>\n",
    "                <th> NAME </th>\n",
    "                <th> AGE </th>\n",
    "                <th> HEIGTH </th>\n",
    "                <th> SCORE </th>\n",
    "                <th> NAME </th>\n",
    "                <th> AGE </th>\n",
    "                <th> HEIGTH </th>\n",
    "                <th> SCORE </th>\n",
    "            </tr>\n",
    "        </thead>\n",
    "        <tbody>\n",
    "            <tr>\n",
    "                <td> Ann </td>\n",
    "                <td> 14 </td>\n",
    "                <td> 5.5 </td>\n",
    "                <td> 80 </td>\n",
    "                <td> Charles </td>\n",
    "                <td> 15 </td>\n",
    "                <td> 5.7 </td>\n",
    "                <td> 85 </td>\n",
    "            </tr>\n",
    "            <tr>\n",
    "                <td> Jane </td>\n",
    "                <td> 16 </td>\n",
    "                <td> 6 </td>\n",
    "                <td> 85 </td>\n",
    "                <td> Jude </td>\n",
    "                <td> 16 </td>\n",
    "                <td> 5.9 </td>\n",
    "                <td> 74 </td>\n",
    "            </tr>\n",
    "            <tr>\n",
    "                <td> Joan </td>\n",
    "                <td> 14 </td>\n",
    "                <td> 5.4 </td>\n",
    "                <td> 70 </td>\n",
    "                <td> James </td>\n",
    "                <td> 16 </td>\n",
    "                <td> 5.8 </td>\n",
    "                <td> 87 </td>\n",
    "            </tr>\n",
    "            <tr>\n",
    "                <td> Clare </td>\n",
    "                <td> 17 </td>\n",
    "                <td> 5.9 </td>\n",
    "                <td> 60 </td>\n",
    "                <td> Kelvin </td>\n",
    "                <td> 17 </td>\n",
    "                <td> 6.1 </td>\n",
    "                <td> 75 </td>\n",
    "            </tr>\n",
    "            <tr>\n",
    "                <td> Elizabeth </td>\n",
    "                <td> 16 </td>\n",
    "                <td> 5.6 </td>\n",
    "                <td> 76 </td>\n",
    "                <td> Prosper </td>\n",
    "                <td> 14 </td>\n",
    "                <td> 5.9 </td>\n",
    "                <td> 68 </td>\n",
    "            </tr>\n",
    "        </tbody>\n",
    "    </table>\n",
    "</body>"
   ]
  },
  {
   "cell_type": "code",
   "execution_count": 26,
   "metadata": {},
   "outputs": [
    {
     "name": "stdout",
     "output_type": "stream",
     "text": [
      "Requirement already satisfied: tabulate in c:\\users\\sst-lab\\anaconda3\\lib\\site-packages (0.8.9)\n",
      "Note: you may need to restart the kernel to use updated packages.\n"
     ]
    }
   ],
   "source": []
  }
 ],
 "metadata": {
  "kernelspec": {
   "display_name": "Python 3",
   "language": "python",
   "name": "python3"
  },
  "language_info": {
   "codemirror_mode": {
    "name": "ipython",
    "version": 3
   },
   "file_extension": ".py",
   "mimetype": "text/x-python",
   "name": "python",
   "nbconvert_exporter": "python",
   "pygments_lexer": "ipython3",
   "version": "3.8.3"
  }
 },
 "nbformat": 4,
 "nbformat_minor": 4
}
